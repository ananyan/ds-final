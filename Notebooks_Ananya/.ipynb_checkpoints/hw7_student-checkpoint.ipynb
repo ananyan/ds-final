{
 "cells": [
  {
   "cell_type": "markdown",
   "metadata": {},
   "source": [
    "# Homework 7: Random Variables\n",
    "\n",
    "## Due Date: 11:59pm Monday, April 13"
   ]
  },
  {
   "cell_type": "markdown",
   "metadata": {},
   "source": [
    "### Submission\n",
    "\n",
    "**You will turn in this homework by uploading your answers in PDF format to Gradescope.** You may turn in your answer as a scan or good quality camera phone picture of handwritten sheets, or you may turn it in as a PDF generated from typeset math (e.g. using LaTeX or Microsoft Word)."
   ]
  },
  {
   "cell_type": "markdown",
   "metadata": {},
   "source": [
    "### Collaboration Policy\n",
    "\n",
    "Data science is a collaborative activity. While you may talk with others about the homework, we ask that you **write your solutions individually**. If you do discuss the assignments with others please **include their names** at the top of your submission."
   ]
  },
  {
   "cell_type": "markdown",
   "metadata": {},
   "source": [
    "## Score Breakdown\n",
    "\n",
    "Question | Points\n",
    "--- | ---\n",
    "Question 1a | 1\n",
    "Question 1b | 2\n",
    "Question 1c | 1\n",
    "Question 1d | 1\n",
    "Question 1e | 1\n",
    "Question 2a | 2\n",
    "Question 2b | 2\n",
    "Question 3  | 4\n",
    "Question 4a | 2\n",
    "Question 4b | 2\n",
    "Question 4c | 2\n",
    "Question 4d | 2\n",
    "Total | 22"
   ]
  },
  {
   "cell_type": "markdown",
   "metadata": {
    "deletable": false,
    "editable": false
   },
   "source": [
    "## Question 1: Guessing At Random\n",
    "\n",
    "A multiple choice test has 100 questions, each with five possible answers of which one is right. The grading scheme is as follows:\n",
    "\n",
    "- 4 points are awarded for each right answer\n",
    "- For each other answer (wrong, missing, etc), one point is taken off; that is, -1 points are awarded.\n",
    "\n",
    "A student hasn't studied at all and therefore guesses each answer uniformly at random, independently of all the other answers. \n",
    "\n",
    "Define the following random variables:\n",
    "\n",
    "- $R$: the number of answers the student gets right\n",
    "- $W$: the number of answers the student does not get right\n",
    "- $S$: the student's score on the test\n",
    "\n",
    "### Question 1a\n",
    "\n",
    "What is the distribution of $R$? Either state the possible values and provide a formula for the probabilities, or provide the name and parameters of the appropriate distribution. Explain your answer.\n",
    "\n",
    "<!--\n",
    "BEGIN QUESTION\n",
    "name: q1a\n",
    "points: 1\n",
    "manual: True\n",
    "-->\n",
    "<!-- EXPORT TO PDF -->"
   ]
  },
  {
   "cell_type": "markdown",
   "metadata": {},
   "source": [
    "The values of $R$ are the numbers between 0 and 100. The distribution is a binomial distribution where the probability of the student picking the right answer is 1/5 (0.2). Therefore, the distribution can be built by finding all possible combinations of getting 0-100 answers right.\n",
    "$$\n",
    "P(R = k) ~ = ~ \\binom{100}{k} 0.2^k(0.8)^{100-k}, ~~~~ 0 \\le k \\le 100\n",
    "$$"
   ]
  },
  {
   "cell_type": "markdown",
   "metadata": {
    "deletable": false,
    "editable": false
   },
   "source": [
    "### Question 1b\n",
    "\n",
    "Find $\\mathbb{E}(R)$ and $\\mathbb{SD}(R)$.\n",
    "\n",
    "<!--\n",
    "BEGIN QUESTION\n",
    "name: q1b\n",
    "points: 2\n",
    "manual: True\n",
    "-->\n",
    "<!-- EXPORT TO PDF -->"
   ]
  },
  {
   "cell_type": "markdown",
   "metadata": {},
   "source": [
    "$\\mathbb{E}(R) = np = 100(0.2) = 20$\n",
    "\n",
    "$\\mathbb{SD}(R) = \\sqrt{\\mathbb{E}((R-\\mathbb{E}(R))^2)} = \\sqrt{np(1-p)} = \\sqrt{20(0.8)} = 4$"
   ]
  },
  {
   "cell_type": "markdown",
   "metadata": {
    "deletable": false,
    "editable": false
   },
   "source": [
    "### Question 1c\n",
    "\n",
    "True or False: $\\mathbb{SD}(R) = \\mathbb{SD}(W)$. Explain your answer.\n",
    "\n",
    "<!--\n",
    "BEGIN QUESTION\n",
    "name: q1c\n",
    "points: 1\n",
    "manual: True\n",
    "\n",
    "-->\n",
    "<!-- EXPORT TO PDF -->"
   ]
  },
  {
   "cell_type": "markdown",
   "metadata": {},
   "source": [
    "True. $\\mathbb{SD}(W) = \\sqrt{np(1-p)} = \\sqrt{100(0.8)(0.2)} = 4$, which is the same as $\\mathbb{SD}(R)$ from 1b. "
   ]
  },
  {
   "cell_type": "markdown",
   "metadata": {
    "deletable": false,
    "editable": false
   },
   "source": [
    "### Question 1d\n",
    "\n",
    "Find $\\mathbb{E}(S)$.\n",
    "\n",
    "<!--\n",
    "BEGIN QUESTION\n",
    "name: q1d\n",
    "points: 1\n",
    "manual: True\n",
    "-->\n",
    "<!-- EXPORT TO PDF -->"
   ]
  },
  {
   "cell_type": "markdown",
   "metadata": {},
   "source": [
    "$S = 4R - W$ so \n",
    "\n",
    "$\\mathbb{E}(S) = \\mathbb{E}(4R - W) = 4\\mathbb{E}(R) - \\mathbb{E}(W) = 4(20) - 80 = 0$"
   ]
  },
  {
   "cell_type": "markdown",
   "metadata": {
    "deletable": false,
    "editable": false
   },
   "source": [
    "### Question 1e\n",
    "\n",
    "Find $\\mathbb{SD}(S)$.\n",
    "\n",
    "<!--\n",
    "BEGIN QUESTION\n",
    "name: q1e\n",
    "points: 1\n",
    "manual: True\n",
    "-->\n",
    "<!-- EXPORT TO PDF -->"
   ]
  },
  {
   "cell_type": "markdown",
   "metadata": {},
   "source": [
    "$S = 4R-W$\n",
    "\n",
    "$W = 100 - R$\n",
    "\n",
    "$S = 4R - (100 - R) = 5R - 100$\n",
    "\n",
    "$\\mathbb{Var}(S) = \\mathbb{Var}(5R-100)$\n",
    "\n",
    "$\\mathbb{Var}(S) = 5^2\\mathbb{Var}(R)$\n",
    "\n",
    "$\\mathbb{SD}(S) = \\sqrt{5^2\\mathbb{Var}(R)} = \\sqrt{5^24^2} = 20$\n",
    "\n",
    "\n",
    "\n"
   ]
  },
  {
   "cell_type": "markdown",
   "metadata": {},
   "source": [
    "## Question 2: Correlation\n",
    "\n",
    "Recall that the correlation between random variables $X$ and $Y$ is defined as \n",
    "\n",
    "$$\n",
    "r(X, Y) ~ = ~ \\mathbb{E}(X_{su}Y_{su})\n",
    "$$\n",
    "\n",
    "where $X_{su}$ is $X$ in standard units and $Y_{su}$ is $Y$ in standard units.\n",
    "\n",
    "In this exercise you will show that $-1 \\le r(X, Y) \\le 1$.\n",
    "\n",
    "It will help to recall properties of random variables in standard units, so please do that before getting started.\n",
    "\n",
    "Correlation is an expected product. We are much better at working with sums and squares than with products. So recall an elementary fact that connects sums, squares, and products: $(a+b)^2 = a^2 + 2ab + b^2$.\n",
    "\n",
    "**Hint:** Refer to Slide 33 of Lec 20 to recall that $\\mathbb{E}(X_{su}^2) = \\mathbb{E}(Y_{su}^2) = 1$."
   ]
  },
  {
   "cell_type": "markdown",
   "metadata": {
    "deletable": false,
    "editable": false
   },
   "source": [
    "### Question 2a\n",
    "\n",
    "Consider the non-negative random variable $V = (X_{su} + Y_{su})^2$. Find $\\mathbb{E}(V)$ and hence show that $r(X, Y) \\ge -1$.\n",
    "\n",
    "<!--\n",
    "BEGIN QUESTION\n",
    "name: q2a\n",
    "points: 2\n",
    "manual: True\n",
    "-->\n",
    "<!-- EXPORT TO PDF -->"
   ]
  },
  {
   "cell_type": "markdown",
   "metadata": {},
   "source": [
    "$\\mathbb{E}(V) = \\mathbb{E}((X_{su} + Y_{su})^2) = \\mathbb{E}(X_{su}^2 + 2X_{su}Y_{su} + Y_{su}^2)$\n",
    "\n",
    "$= \\mathbb{E}(X_{su}^2) + \\mathbb{E}(2X_{su}Y_{su}) + \\mathbb{E}(Y_{su}^2) = 2 + \\mathbb{E}(2X_{su}Y_{su}) = 2+2\\mathbb{E}(X_{su}Y_{su})$\n",
    "\n",
    "Since V is non-negative, $\\mathbb{E}(V)$ should be >= 0, in which case $2+2\\mathbb{E}(X_{su}Y_{su})$ >= 0. Then, \n",
    "\n",
    "$\\mathbb{E}(X_{su}Y_{su}) >= -1$ so $r(X,Y) >= -1$"
   ]
  },
  {
   "cell_type": "markdown",
   "metadata": {
    "deletable": false,
    "editable": false
   },
   "source": [
    "### Question 2b\n",
    "\n",
    "Use $W = (X_{su} - Y_{su})^2$ to show that $r(X, Y) \\le 1$.\n",
    "\n",
    "<!--\n",
    "BEGIN QUESTION\n",
    "name: q2b\n",
    "points: 2\n",
    "manual: True\n",
    "-->\n",
    "<!-- EXPORT TO PDF -->"
   ]
  },
  {
   "cell_type": "markdown",
   "metadata": {},
   "source": [
    "$\\mathbb{E}(W) = \\mathbb{E}((X_{su} - Y_{su})^2) = \\mathbb{E}(X_{su}^2 - 2X_{su}Y_{su} + Y_{su}^2)$\n",
    "\n",
    "$= \\mathbb{E}(X_{su}^2) - \\mathbb{E}(2X_{su}Y_{su}) + \\mathbb{E}(Y_{su}^2) = 2 - \\mathbb{E}(2X_{su}Y_{su}) = 2-2\\mathbb{E}(X_{su}Y_{su})$\n",
    "\n",
    "Since W is non-negative, $\\mathbb{E}(W)$ should be >=0. In that case, $2-2\\mathbb{E}(X_{su}Y_{su})$ >= 0. Then,\n",
    "\n",
    "$2 >= 2\\mathbb{E}(X_{su}Y_{su})$ \n",
    "\n",
    "$1 >= \\mathbb{E}(X_{su}Y_{su})$ so $r(X,Y) =< 1$"
   ]
  },
  {
   "cell_type": "markdown",
   "metadata": {
    "deletable": false,
    "editable": false
   },
   "source": [
    "## Question 3: Modified Robots\n",
    "\n",
    "A company that makes robots has 12 new robots all designed for the same task.\n",
    "\n",
    "The company times all the robots as they complete their task. Then it modifies each robot's mechanism. After the modificiation, it times the robots again as they complete their tasks.\n",
    "\n",
    "Assume that the first and second times for Robot $i$ are $(X_i, Y_i)$ and that the pairs $(X_1, Y_1), (X_2, Y_2), \\ldots, (X_{12}, Y_{12})$ are i.i.d. That means each pair is an independent copy of all other pairs. Remember that *within* each pair, the distribution of $X$ and $Y$ might be different.\n",
    "\n",
    "You can also assume that time is measured with enough precision that no two times come out exactly equal.\n",
    "\n",
    "Nine out of the 12 robots performed faster after modification. Come up with hypotheses that you can test to see whether the modifications did nothing or whether they made the robots faster. Perform the test at the 5% level and provide your conclusion. The test is called the *sign test* because it is based on the signs of the differences $D_i = Y_i - X_i$.\n",
    "\n",
    "You might find this Data 8 webpage helpful: [Assessing Models](https://www.inferentialthinking.com/chapters/11/1/Assessing_Models.html).\n",
    "\n",
    "<!--\n",
    "BEGIN QUESTION\n",
    "name: q3\n",
    "points: 4\n",
    "manual: True\n",
    "-->\n",
    "<!-- EXPORT TO PDF -->"
   ]
  },
  {
   "cell_type": "markdown",
   "metadata": {},
   "source": [
    "The null hypothesis is that $X_i$ is not greater than $Y_i$ while the alternate hypothesis is that $X_i$ is greater than $Y_i$ (indicating that the second times are faster). The observed sample has a 9 out of 12 successes ($X_i$ is greater than $Y_i$). The probability of this result, if the null hypothesis is true, is $\\sum_{k=9}^{12} \\binom{12}{k}0.5^{12}$ based on the binomial distribution. The probability of the null hypothesis being true is then 0.089 which is greater than 0.05, so I failed to reject the null hypthesis. "
   ]
  },
  {
   "cell_type": "markdown",
   "metadata": {},
   "source": [
    "## Question 4: 10,000 Repetitions\n",
    "\n",
    "When you run a simulation, you have to decide how many times to simulate your random variable. The number 10,000 is often suggested and [used](https://sports.yahoo.com/10-000-simulations-heres-outcome-204113832.html) (the Packers did win 28-23). Let's see why.\n",
    "\n",
    "First, 10,000 a nice round number and it feels like a lot. But there's more to it than that, as you will discover in this exercise."
   ]
  },
  {
   "cell_type": "markdown",
   "metadata": {
    "deletable": false,
    "editable": false
   },
   "source": [
    "### Question 4a\n",
    "\n",
    "Let $I$ have the Bernoulli $(p)$ distribution. Think of $\\mathbb{V}ar(I)$ as a function of $p \\in (0, 1)$. At what value of $p$ is the function at its maximum, and what is the corresponding value of $\\mathbb{V}ar(I)$ for that value of $p$? You can answer by drawing a graph or by using algebra or calculus.\n",
    "\n",
    "<!--\n",
    "BEGIN QUESTION\n",
    "name: q4a\n",
    "points: 2\n",
    "manual: True\n",
    "-->\n",
    "<!-- EXPORT TO PDF -->"
   ]
  },
  {
   "cell_type": "markdown",
   "metadata": {},
   "source": [
    "$\\mathbb{Var}(I) = \\mathbb{E}((I-\\mathbb{E}(I))^2)$ where $\\mathbb{E}(I) = p$ and $\\mathbb{E}(I^2) = p$\n",
    "\n",
    "$\\mathbb{Var}(I) = \\mathbb{E}(I^2 -2pI + p^2) = \\mathbb{E}(I^2) + \\mathbb{E}(-2pI) + \\mathbb{E}(p^2) = p - 2p^2 + p^2 = p - p^2 = p(1-p)$ The maximum of this expression is when $1-2p = 0$, so when $p=0.5$.\n",
    "\n",
    "At $p=0.5$, $\\mathbb{Var}(I) = 0.25$"
   ]
  },
  {
   "cell_type": "markdown",
   "metadata": {
    "deletable": false,
    "editable": false
   },
   "source": [
    "### Question 4b\n",
    "\n",
    "Suppose you run $n$ independent simulations of an experiment, and suppose that on each single simulation the chance that the experiment is a success is $p$. Let $X$ be the proportion of successful experiments among the $n$ experiments in your simulation. You can assume $n$ is sufficiently big to apply CLT.\n",
    "\n",
    "Fill in the blank with a function of $n$ and $p$, and explain your answer:\n",
    "$~ P(X \\in p \\pm \\underline{~~~~~~~~~~~~}) ~ \\approx 0.95$\n",
    "\n",
    "<!--\n",
    "BEGIN QUESTION\n",
    "name: q4b\n",
    "points: 2\n",
    "manual: True\n",
    "-->\n",
    "<!-- EXPORT TO PDF -->"
   ]
  },
  {
   "cell_type": "markdown",
   "metadata": {},
   "source": [
    "The standard deviation for the distribution is $\\mathbb{SD}(I)/\\sqrt{n} = \\sqrt{p(1-p)/n}$"
   ]
  },
  {
   "cell_type": "markdown",
   "metadata": {
    "deletable": false,
    "editable": false
   },
   "source": [
    "### Question 4c\n",
    "\n",
    "Now fill in the blank below with a function of $n$ only. Note that the approximation in Part **b** has been replaced by an inequality.\n",
    "\n",
    "Your answer shouldn't involve $p$. Often we don't know the value of $p$, so it's useful to have an interval width that doesn't depend on $p$.\n",
    "\n",
    "Fill in the blank with a function of $n$, and explain your answer: \n",
    "$~ P(X \\in p \\pm \\underline{~~~~~~~~~~~~}) ~ \\geq 0.95$\n",
    "\n",
    "**Hint:** Use part **a**.\n",
    "\n",
    "<!--\n",
    "BEGIN QUESTION\n",
    "name: q4c\n",
    "points: 2\n",
    "manual: True\n",
    "-->\n",
    "<!-- EXPORT TO PDF -->"
   ]
  },
  {
   "cell_type": "markdown",
   "metadata": {},
   "source": [
    "The largest standard deviation would be 0.5 according to 4a. Assuming a normal distribution, 95% of the distribution is within 2 standard deviations. Using this, the blank would be $1/\\sqrt{n}$."
   ]
  },
  {
   "cell_type": "markdown",
   "metadata": {
    "deletable": false,
    "editable": false
   },
   "source": [
    "### Question 4d\n",
    "\n",
    "Suppose you are going to simulate a random variable $Y$ and plot the empirical histogram based on your simulations. \n",
    "\n",
    "Let $[a, b)$ be one of your histogram bins, and let $p = P(Y \\in [a, b))$. That is, $p$ is the true probability of your random variable falling in the interval $[a, b)$.\n",
    "\n",
    "Suppose you run 10,000 independent simulations of $Y$. Let $X$ be the proportion of simulations in which the simulated value falls in the interval $[a, b)$. Fill in the blank with a numerical value $w$ and explain your answer:\n",
    "\n",
    "$P(X \\in p \\pm w) ~ \\geq 0.95$\n",
    "\n",
    "Since the bin $[a, b)$ was arbitrary, this calculation shows that if you make 10,000 simulations, then for every bin in your histogram there is at least a 95% chance that your observed proportion is within $w$ of the true probability of falling into that bin. \n",
    "\n",
    "Your value of $w$ should have come out nice and simple (even simpler if you convert it to a percent). This makes the conclusion easy to remember.\n",
    "\n",
    "<!--\n",
    "BEGIN QUESTION\n",
    "name: q4d\n",
    "points: 2\n",
    "manual: True\n",
    "-->\n",
    "<!-- EXPORT TO PDF -->"
   ]
  },
  {
   "cell_type": "markdown",
   "metadata": {},
   "source": [
    "Using 4c, if $n=10000$, the value of $w$ is $1/\\sqrt{10000}$, which is $1/100$ or 1%."
   ]
  }
 ],
 "metadata": {
  "kernelspec": {
   "display_name": "Python 3",
   "language": "python",
   "name": "python3"
  },
  "language_info": {
   "codemirror_mode": {
    "name": "ipython",
    "version": 3
   },
   "file_extension": ".py",
   "mimetype": "text/x-python",
   "name": "python",
   "nbconvert_exporter": "python",
   "pygments_lexer": "ipython3",
   "version": "3.7.4"
  }
 },
 "nbformat": 4,
 "nbformat_minor": 2
}
